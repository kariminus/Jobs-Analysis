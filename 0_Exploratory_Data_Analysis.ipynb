{
 "cells": [
  {
   "cell_type": "code",
   "execution_count": 3,
   "metadata": {},
   "outputs": [
    {
     "name": "stdout",
     "output_type": "stream",
     "text": [
      "                     title       company  \\\n",
      "0  Data Analyst internship  PGBPGNGLOBAL   \n",
      "1  Senior Data Analyst H/F         Qonto   \n",
      "2             Data Analyst          Jump   \n",
      "3             Data analyst       Oh BiBi   \n",
      "4     Product Data Analyst     leboncoin   \n",
      "\n",
      "                                         description            location  \\\n",
      "0                                                       Paris, France      \n",
      "1  Les missions du poste\\n\\nOur mission? Making d...           Anywhere    \n",
      "2  Pour relever ces défis, nous recrutons un·e Da...    Paris, France      \n",
      "3  Job Description:\\n\\nAs a Data Analyst at OhBiB...    Paris, France      \n",
      "4  The right career for all\\n\\nCreated in 2006, l...    Paris, France      \n",
      "\n",
      "                         via  \\\n",
      "0             via PG Careers   \n",
      "1              via HelloWork   \n",
      "2  via Welcome To The Jungle   \n",
      "3                 via Indeed   \n",
      "4               via LinkedIn   \n",
      "\n",
      "                                          extensions  \\\n",
      "0                       {\"Full-time and Internship\"}   \n",
      "1  {\"9 hours ago\",\"Work from home\",Full-time,\"9 h...   \n",
      "2  {\"18 hours ago\",Full-time,\"18 hours ago\",Full-...   \n",
      "3    {\"4 days ago\",Full-time,\"4 days ago\",Full-time}   \n",
      "4  {\"24 hours ago\",Full-time,\"No degree mentioned...   \n",
      "\n",
      "            employment_type       work_mode  posting_date  \\\n",
      "0  Full-time and Internship            None          None   \n",
      "1                 Full-time  Work from home   9 hours ago   \n",
      "2                 Full-time            None  18 hours ago   \n",
      "3                 Full-time            None    4 days ago   \n",
      "4                 Full-time            None  24 hours ago   \n",
      "\n",
      "    degree_requirement salary        posted_at_timestamp  \n",
      "0                 None   None                        NaT  \n",
      "1                 None   None 2024-02-13 01:54:19.019501  \n",
      "2                 None   None 2024-02-12 16:54:19.019501  \n",
      "3                 None   None 2024-02-09 10:54:19.019501  \n",
      "4  No degree mentioned   None 2024-02-12 10:54:19.019501  \n"
     ]
    }
   ],
   "source": [
    "import database\n",
    "import pandas as pd\n",
    "\n",
    "# Load the dataframe\n",
    "df = database.main()\n",
    "\n",
    "# Display the first few rows of the dataframe\n",
    "print(df.head())"
   ]
  },
  {
   "cell_type": "code",
   "execution_count": 4,
   "metadata": {},
   "outputs": [
    {
     "name": "stdout",
     "output_type": "stream",
     "text": [
      "               title  company  \\\n",
      "count            880      880   \n",
      "unique           220      232   \n",
      "top     Data Analyst  Greenly   \n",
      "freq             115       16   \n",
      "first            NaN      NaN   \n",
      "last             NaN      NaN   \n",
      "\n",
      "                                              description            location  \\\n",
      "count                                                 880                 880   \n",
      "unique                                                305                  16   \n",
      "top     Company Description\\n\\nWhy work for Accor?\\n\\n...    Paris, France      \n",
      "freq                                                    7                 729   \n",
      "first                                                 NaN                 NaN   \n",
      "last                                                  NaN                 NaN   \n",
      "\n",
      "                 via             extensions employment_type       work_mode  \\\n",
      "count            880                    880             875              90   \n",
      "unique            89                    230              14               1   \n",
      "top     via LinkedIn  {Full-time,Full-time}       Full-time  Work from home   \n",
      "freq             107                     97             638              90   \n",
      "first            NaN                    NaN             NaN             NaN   \n",
      "last             NaN                    NaN             NaN             NaN   \n",
      "\n",
      "       posting_date   degree_requirement             salary  \\\n",
      "count           607                  264                 90   \n",
      "unique           46                    1                 24   \n",
      "top      3 days ago  No degree mentioned  €75K–€120K a year   \n",
      "freq             71                  264                 10   \n",
      "first           NaN                  NaN                NaN   \n",
      "last            NaN                  NaN                NaN   \n",
      "\n",
      "               posted_at_timestamp  \n",
      "count                          607  \n",
      "unique                         167  \n",
      "top     2024-02-14 17:42:02.658252  \n",
      "freq                            17  \n",
      "first   2024-01-15 10:54:19.019501  \n",
      "last    2024-02-18 14:36:02.225160  \n"
     ]
    },
    {
     "name": "stderr",
     "output_type": "stream",
     "text": [
      "C:\\Users\\karim.HOME\\AppData\\Local\\Temp\\ipykernel_15600\\3977629830.py:2: FutureWarning: Treating datetime data as categorical rather than numeric in `.describe` is deprecated and will be removed in a future version of pandas. Specify `datetime_is_numeric=True` to silence this warning and adopt the future behavior now.\n",
      "  print(df.describe())\n"
     ]
    }
   ],
   "source": [
    "# Get the summary statistics of the dataframe\n",
    "print(df.describe())"
   ]
  },
  {
   "cell_type": "code",
   "execution_count": 5,
   "metadata": {},
   "outputs": [
    {
     "name": "stdout",
     "output_type": "stream",
     "text": [
      "title                          object\n",
      "company                        object\n",
      "description                    object\n",
      "location                       object\n",
      "via                            object\n",
      "extensions                     object\n",
      "employment_type                object\n",
      "work_mode                      object\n",
      "posting_date                   object\n",
      "degree_requirement             object\n",
      "salary                         object\n",
      "posted_at_timestamp    datetime64[ns]\n",
      "dtype: object\n"
     ]
    }
   ],
   "source": [
    "# Check the data types of each column\n",
    "print(df.dtypes)"
   ]
  },
  {
   "cell_type": "code",
   "execution_count": 6,
   "metadata": {},
   "outputs": [
    {
     "name": "stdout",
     "output_type": "stream",
     "text": [
      "title                    0\n",
      "company                  0\n",
      "description              0\n",
      "location                 0\n",
      "via                      0\n",
      "extensions               0\n",
      "employment_type          5\n",
      "work_mode              790\n",
      "posting_date           273\n",
      "degree_requirement     616\n",
      "salary                 790\n",
      "posted_at_timestamp    273\n",
      "dtype: int64\n"
     ]
    }
   ],
   "source": [
    "# Check for missing values in the dataframe\n",
    "print(df.isnull().sum())"
   ]
  },
  {
   "cell_type": "code",
   "execution_count": 8,
   "metadata": {},
   "outputs": [
    {
     "name": "stdout",
     "output_type": "stream",
     "text": [
      "260\n"
     ]
    }
   ],
   "source": [
    "# Calculate duplicates\n",
    "duplicates = df.duplicated().sum()\n",
    "print(duplicates)\n"
   ]
  }
 ],
 "metadata": {
  "kernelspec": {
   "display_name": "Python 3",
   "language": "python",
   "name": "python3"
  },
  "language_info": {
   "codemirror_mode": {
    "name": "ipython",
    "version": 3
   },
   "file_extension": ".py",
   "mimetype": "text/x-python",
   "name": "python",
   "nbconvert_exporter": "python",
   "pygments_lexer": "ipython3",
   "version": "3.10.10"
  }
 },
 "nbformat": 4,
 "nbformat_minor": 2
}
