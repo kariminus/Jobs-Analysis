{
 "cells": [
  {
   "cell_type": "markdown",
   "metadata": {},
   "source": [
    "## 1. Connexion à la base de données"
   ]
  },
  {
   "cell_type": "code",
   "execution_count": 65,
   "metadata": {},
   "outputs": [
    {
     "name": "stdout",
     "output_type": "stream",
     "text": [
      "<bound method NDFrame.head of                                                  title          company  \\\n",
      "0                              Data Analyst internship     PGBPGNGLOBAL   \n",
      "1                              Senior Data Analyst H/F            Qonto   \n",
      "2                                         Data Analyst             Jump   \n",
      "3                                         Data analyst          Oh BiBi   \n",
      "4                                 Product Data Analyst        leboncoin   \n",
      "...                                                ...              ...   \n",
      "1024                               Analyste de données            Cubyn   \n",
      "1025                          Product Data Analyst F/H        Leboncoin   \n",
      "1026                                      Data Analyst         Peroptyx   \n",
      "1027  [INTERNSHIP] Generative AI Intern Data Scientist  Publicis Groupe   \n",
      "1028                                    Data Scientist        Carrefour   \n",
      "\n",
      "                                            description            location  \\\n",
      "0                                                          Paris, France      \n",
      "1     Les missions du poste\\n\\nOur mission? Making d...           Anywhere    \n",
      "2     Pour relever ces défis, nous recrutons un·e Da...    Paris, France      \n",
      "3     Job Description:\\n\\nAs a Data Analyst at OhBiB...    Paris, France      \n",
      "4     The right career for all\\n\\nCreated in 2006, l...    Paris, France      \n",
      "...                                                 ...                 ...   \n",
      "1024  About us\\n\\nCubyn is building the #1 e-commerc...    Paris, France      \n",
      "1025  Rattaché(e) au Data analyst manager au sein de...    Paris, France      \n",
      "1026  We are currently looking for freelance / indep...    Paris, France      \n",
      "1027  Company DescriptionRe:Sources is the backbone ...    Paris, France      \n",
      "1028  Porteuse de cette ambition, le Datalab Service...    Paris, France      \n",
      "\n",
      "                            via  \\\n",
      "0                via PG Careers   \n",
      "1                 via HelloWork   \n",
      "2     via Welcome To The Jungle   \n",
      "3                    via Indeed   \n",
      "4                  via LinkedIn   \n",
      "...                         ...   \n",
      "1024             via Talent.com   \n",
      "1025  via Welcome To The Jungle   \n",
      "1026                  via BeBee   \n",
      "1027            via Ai-Jobs.net   \n",
      "1028    via Emplois Trabajo.org   \n",
      "\n",
      "                                             extensions  \\\n",
      "0                          {\"Full-time and Internship\"}   \n",
      "1     {\"9 hours ago\",\"Work from home\",Full-time,\"9 h...   \n",
      "2     {\"18 hours ago\",Full-time,\"18 hours ago\",Full-...   \n",
      "3       {\"4 days ago\",Full-time,\"4 days ago\",Full-time}   \n",
      "4     {\"24 hours ago\",Full-time,\"No degree mentioned...   \n",
      "...                                                 ...   \n",
      "1024  {\"6 days ago\",Full-time,\"No degree mentioned\",...   \n",
      "1025  {\"7 days ago\",Full-time,\"No degree mentioned\",...   \n",
      "1026  {\"2 days ago\",\"Part-time and Contractor\",\"No d...   \n",
      "1027  {\"10 days ago\",Internship,\"10 days ago\",Intern...   \n",
      "1028    {\"2 days ago\",Full-time,\"2 days ago\",Full-time}   \n",
      "\n",
      "               employment_type       work_mode  posting_date  \\\n",
      "0     Full-time and Internship            None          None   \n",
      "1                    Full-time  Work from home   9 hours ago   \n",
      "2                    Full-time            None  18 hours ago   \n",
      "3                    Full-time            None    4 days ago   \n",
      "4                    Full-time            None  24 hours ago   \n",
      "...                        ...             ...           ...   \n",
      "1024                 Full-time            None    6 days ago   \n",
      "1025                 Full-time            None    7 days ago   \n",
      "1026  Part-time and Contractor            None    2 days ago   \n",
      "1027                Internship            None   10 days ago   \n",
      "1028                 Full-time            None    2 days ago   \n",
      "\n",
      "       degree_requirement salary        posted_at_timestamp  \n",
      "0                    None   None                        NaT  \n",
      "1                    None   None 2024-02-13 01:54:19.019501  \n",
      "2                    None   None 2024-02-12 16:54:19.019501  \n",
      "3                    None   None 2024-02-09 10:54:19.019501  \n",
      "4     No degree mentioned   None 2024-02-12 10:54:19.019501  \n",
      "...                   ...    ...                        ...  \n",
      "1024  No degree mentioned   None 2024-02-13 21:01:32.069432  \n",
      "1025  No degree mentioned   None 2024-02-12 21:01:32.069432  \n",
      "1026  No degree mentioned   None 2024-02-17 21:01:32.069432  \n",
      "1027                 None   None 2024-02-09 21:01:32.069432  \n",
      "1028                 None   None 2024-02-17 21:01:32.069432  \n",
      "\n",
      "[716 rows x 12 columns]>\n"
     ]
    }
   ],
   "source": [
    "import pandas as pd\n",
    "import database\n",
    "import matplotlib.pyplot as plt\n",
    "import seaborn as sns\n",
    "\n",
    "df = database.main()\n",
    "df.drop_duplicates(keep='first', inplace=True)\n",
    "print(df.head)"
   ]
  },
  {
   "cell_type": "markdown",
   "metadata": {},
   "source": [
    "## 2. Standardisation de la colonne Salary"
   ]
  },
  {
   "cell_type": "code",
   "execution_count": 66,
   "metadata": {},
   "outputs": [],
   "source": [
    "import re\n",
    "\n",
    "# Function to parse and standardize salary\n",
    "def standardize_salary(salary):\n",
    "    if salary is None:\n",
    "        return None\n",
    "    \n",
    "    # Find all numbers in the salary string\n",
    "    numbers = [float(num.replace('K', '000')) for num in re.findall(r'[\\d.]+K?|[\\d,]+', salary.replace(',', ''))]\n",
    "    \n",
    "    # Determine the salary period and calculate annual salary\n",
    "    if 'a month' in salary:\n",
    "        annual_salary = sum(numbers) / len(numbers) * 12  # Average if a range, then convert to annual\n",
    "    elif 'a day' in salary:\n",
    "        annual_salary = sum(numbers) / len(numbers) * 220  # Average if a range, then convert to annual\n",
    "    elif 'a year' in salary:\n",
    "        annual_salary = sum(numbers) / len(numbers)  # Average if a range\n",
    "    else:\n",
    "        annual_salary = None  # Undefined period\n",
    "    \n",
    "    return annual_salary\n",
    "\n",
    "# Apply the function to each salary\n",
    "df['salary_standardized'] = [standardize_salary(s) for s in df.salary]"
   ]
  },
  {
   "cell_type": "markdown",
   "metadata": {},
   "source": [
    "## 3. EDA sur la colonne Salary"
   ]
  },
  {
   "cell_type": "code",
   "execution_count": 67,
   "metadata": {},
   "outputs": [
    {
     "data": {
      "text/plain": [
       "count        68.000000\n",
       "mean      59413.337353\n",
       "std       45862.830302\n",
       "min          18.000000\n",
       "25%       13000.000000\n",
       "50%       59500.000000\n",
       "75%       91500.000000\n",
       "max      159500.000000\n",
       "Name: salary_standardized, dtype: float64"
      ]
     },
     "execution_count": 67,
     "metadata": {},
     "output_type": "execute_result"
    }
   ],
   "source": [
    "# Descriptive statistics\n",
    "desc_stats = df['salary_standardized'].describe()\n",
    "desc_stats"
   ]
  },
  {
   "cell_type": "code",
   "execution_count": 75,
   "metadata": {},
   "outputs": [],
   "source": [
    "df_salary = df[df['salary_standardized'].notnull()]\n",
    "# Filter rows where 'employment_type' does not contain 'Internship'\n",
    "df_filtered = df_salary[df_salary['employment_type'].str.contains('Full-time', case=False, na=False)]"
   ]
  },
  {
   "cell_type": "code",
   "execution_count": 76,
   "metadata": {},
   "outputs": [
    {
     "data": {
      "image/png": "[encoded data removed]",
      "text/plain": [
       "<Figure size 1200x600 with 1 Axes>"
      ]
     },
     "metadata": {},
     "output_type": "display_data"
    }
   ],
   "source": [
    "# Histograms\n",
    "plt.figure(figsize=(12, 6))\n",
    "sns.histplot(df_filtered['salary_standardized'], kde=True, bins=20, color='blue')\n",
    "plt.title('Histogram of Yearly Salary')\n",
    "plt.xlabel('Yearly Salary')\n",
    "plt.show()"
   ]
  },
  {
   "cell_type": "code",
   "execution_count": null,
   "metadata": {},
   "outputs": [],
   "source": []
  }
 ],
 "metadata": {
  "kernelspec": {
   "display_name": "Python 3",
   "language": "python",
   "name": "python3"
  },
  "language_info": {
   "codemirror_mode": {
    "name": "ipython",
    "version": 3
   },
   "file_extension": ".py",
   "mimetype": "text/x-python",
   "name": "python",
   "nbconvert_exporter": "python",
   "pygments_lexer": "ipython3",
   "version": "3.10.10"
  }
 },
 "nbformat": 4,
 "nbformat_minor": 2
}
